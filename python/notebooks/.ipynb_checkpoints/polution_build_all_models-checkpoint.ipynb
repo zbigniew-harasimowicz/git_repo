{
 "cells": [
  {
   "cell_type": "code",
   "execution_count": 1,
   "metadata": {
    "tags": [
     "load"
    ]
   },
   "outputs": [],
   "source": [
    "\n",
    "import numpy as np\n",
    "import pandas as pd\n",
    "import psycopg2\n",
    "\n",
    "from sklearn.preprocessing import StandardScaler\n",
    "from sklearn.externals import joblib \n",
    "from sklearn.model_selection import train_test_split\n",
    "# Importing the xgboost\n",
    "import catboost\n",
    "from catboost import CatBoostRegressor,Pool\n",
    "import matplotlib.pyplot as plt\n",
    "#import matplotlib.pyplot as plt\n",
    "import os\n",
    "\n"
   ]
  },
  {
   "cell_type": "code",
   "execution_count": 2,
   "metadata": {},
   "outputs": [],
   "source": [
    "\n",
    "\n",
    "# ustawienie plików z parametemai modelu\n",
    "model_path='D:\\polution_prediction\\models'\n",
    "model_name=\"catboost_polution_model\"\n",
    "model_season='zima'\n",
    "model_path =model_path+\"\\\\\"+model_season\n",
    "model_file = model_path+'\\\\'+model_name+\".cmb\"\n",
    "csv_path='D:\\\\polution_prediction\\\\models\\\\'+model_season+'\\\\csv\\\\'\n",
    "#scaler_file=model_path+\"\\\\\" +model_name+\"\\\\scaler\"\n",
    "#mean_indexbytime_file = model_path+\"\\\\\" +model_name+\"\\\\mean_byTime\"\n",
    "#board_log =model_path+\"\\\\\" +model_name+\"\\\\graph\""
   ]
  },
  {
   "cell_type": "code",
   "execution_count": 3,
   "metadata": {},
   "outputs": [],
   "source": [
    "dbuser='global_owner'\n",
    "dbpass='if(g=l)weatherpg'\n",
    "try:\n",
    "    conn = psycopg2.connect(dbname='weatherpg',user=dbuser,host='weatherpg.db.dv.interia.pl',password=dbpass)\n",
    "except:\n",
    "    print(\"I am unable to connect to the database\")"
   ]
  },
  {
   "cell_type": "code",
   "execution_count": 4,
   "metadata": {},
   "outputs": [],
   "source": [
    "# sel_city2_model='''\n",
    "# select sel3.cit_sta_id,sel3.cit_id,ct.cit_asn_id,ct.cit_name_pl from\n",
    "# (select sel2.cit_sta_id,weather_owner._wh_bigest_asn_city_id(sel2.cit_sta_id) cit_id from \n",
    "# (select  cit_sta_id,count(*) as cnt from weather_owner.wh_cities\n",
    "# where cit_asn_id is not null \n",
    "# group by  cit_sta_id\n",
    "# order by cnt desc) sel2\n",
    "# where cnt>=10) sel3\n",
    "# join  weather_owner.wh_cities ct  on (sel3.cit_id=ct.cit_id)\n",
    "# '''\n",
    "\n",
    "sel_city2_model='select cit_sta_id,cit_id,cit_asn_id,cit_name_pl from weather_owner.wh_polution_models'\n",
    "\n",
    "dataset_cities=pd.read_sql_query(sel_city2_model,con=conn)"
   ]
  },
  {
   "cell_type": "code",
   "execution_count": 5,
   "metadata": {},
   "outputs": [],
   "source": [
    "col_list=['timeofday','is_weekend','windspeed6','dispel50','temp6','prev_index_avg','opady6','rhumid','wind_dir_ns','wind_dir_ew']\n",
    "cat_features_index = [0,1]"
   ]
  },
  {
   "cell_type": "code",
   "execution_count": 6,
   "metadata": {},
   "outputs": [],
   "source": [
    "def build_model(p_sta_id,p_cit_id,p_asn_id,p_name_pl):\n",
    "    v_sql=f'select * from weather_owner.polution_table_data_season({p_sta_id},{p_asn_id},\\'{model_season}\\')'\n",
    "    dataset_raw =pd.read_sql_query(v_sql,con=conn)\n",
    "    dataset_raw.set_index(\"data\",inplace=True)\n",
    "    X =pd.DataFrame(dataset_raw, columns=col_list)\n",
    "    Y =pd.DataFrame(dataset_raw, columns=['index_avg'])\n",
    "    uniqe_data=pd.unique(dataset_raw.index)\n",
    "    uniqe_data_train, uniqe_data_test= train_test_split(uniqe_data, test_size = 0.2, random_state = 12)\n",
    "    X_train=X[X.index.isin(uniqe_data_train)]\n",
    "    X_test =X[X.index.isin(uniqe_data_test)]\n",
    "    y_train=Y[Y.index.isin(uniqe_data_train)]\n",
    "    y_test =Y[Y.index.isin(uniqe_data_test)]\n",
    "    if y_train.shape[0]<500 :\n",
    "        return 'za mało danych'\n",
    "    model = CatBoostRegressor(iterations=7000, learning_rate=0.01, depth=6,l2_leaf_reg=27)\n",
    "    model.fit(X_train, y_train, cat_features_index,eval_set=[(X_test, y_test)],use_best_model=True,silent=True)\n",
    "    directory= model_path+f'\\\\{p_cit_id}'\n",
    "    if not os.path.exists(directory):\n",
    "        os.makedirs(directory)\n",
    "    model_file=directory+'\\\\'+model_name+\".cmb\"\n",
    "    model.save_model(model_file, format=\"cbm\")\n",
    "    \n",
    "    score=model.score(X_test, y_test)\n",
    "    report=f'''\n",
    "    Model dla {p_name_pl}\n",
    "    score: {score}\n",
    "    rozmiar próbki: {X.shape[0]}\n",
    "    w tym:\n",
    "    w zbiorze treningowym {X_train.shape} elementów\n",
    "    w zbiorze testowym {X_test.shape} elementów\n",
    "    future importance:\n",
    "    '''\n",
    "    \n",
    "    pool = Pool(X_train, y_train)\n",
    "\n",
    "    fi = model.get_feature_importance(pool,fstr_type='FeatureImportance')\n",
    "    feature_importance=pd.DataFrame(fi,columns=['importance'])\n",
    "    feature_importance[\"futures\"]=col_list\n",
    "    feature_importance.set_index(\"futures\",inplace=True)\n",
    "    feature_importance.sort_values(by=[\"importance\"],ascending =False,inplace=True )\n",
    "    fi_report=str(feature_importance.to_string)\n",
    "    report_file=directory+'\\\\report.txt'\n",
    "    f = open(report_file, 'w') \n",
    "    \n",
    "    f.write(report+fi_report)\n",
    "    f.close()\n",
    "#     dataset_raw.to_csv(csv_path+f'{p_cit_id}_{p_name_pl}')\n",
    "    return 'ok'\n",
    "    \n",
    "\n",
    "    "
   ]
  },
  {
   "cell_type": "code",
   "execution_count": 7,
   "metadata": {},
   "outputs": [],
   "source": [
    "#retult=build_model(119,4970,204,'krakow')"
   ]
  },
  {
   "cell_type": "code",
   "execution_count": null,
   "metadata": {},
   "outputs": [],
   "source": [
    "for row in dataset_cities.iterrows():\n",
    "    cit_sta_id=f'{row[1][0]:.0f}'\n",
    "    cit_id    =f'{row[1][1]:.0f}'\n",
    "    cit_asn_id=f'{row[1][2]:.0f}'    \n",
    "    name_pl   =f'{row[1][3]}'    \n",
    "    #print(cit_sta_id,cit_id,cit_asn_id)\n",
    "    result=build_model(cit_sta_id,cit_id,cit_asn_id,name_pl)\n",
    "    \n"
   ]
  },
  {
   "cell_type": "code",
   "execution_count": null,
   "metadata": {},
   "outputs": [],
   "source": []
  }
 ],
 "metadata": {
  "kernelspec": {
   "display_name": "Python 3",
   "language": "python",
   "name": "python3"
  },
  "language_info": {
   "codemirror_mode": {
    "name": "ipython",
    "version": 3
   },
   "file_extension": ".py",
   "mimetype": "text/x-python",
   "name": "python",
   "nbconvert_exporter": "python",
   "pygments_lexer": "ipython3",
   "version": "3.6.6"
  }
 },
 "nbformat": 4,
 "nbformat_minor": 2
}
