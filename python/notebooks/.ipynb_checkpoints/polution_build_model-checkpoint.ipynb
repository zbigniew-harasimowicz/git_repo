{
 "cells": [
  {
   "cell_type": "code",
   "execution_count": 1,
   "metadata": {},
   "outputs": [],
   "source": [
    "\n",
    "import numpy as np\n",
    "import pandas as pd\n",
    "# import psycopg2\n",
    "\n",
    "from sklearn.preprocessing import StandardScaler\n",
    "from sklearn.externals import joblib \n",
    "from sklearn.model_selection import train_test_split\n",
    "# Importing the xgboost\n",
    "import catboost\n",
    "from catboost import CatBoostRegressor,Pool\n",
    "import matplotlib.pyplot as plt\n",
    "#import matplotlib.pyplot as plt"
   ]
  },
  {
   "cell_type": "code",
   "execution_count": 2,
   "metadata": {},
   "outputs": [],
   "source": [
    "\n",
    "\n",
    "# ustawienie plików z parametemai modelu\n",
    "model_path='c:\\workspace\\Python\\polutions\\models'\n",
    "model_season='zima'\n",
    "model_name='catboost_polution_model'\n",
    "model_file = model_path+\"\\\\\"+model_season+'\\\\'+model_name+\".cmb\"\n",
    "scaler_file=model_path+\"\\\\\" +model_name+\"\\\\scaler\"\n",
    "mean_indexbytime_file = model_path+\"\\\\\" +model_name+\"\\\\mean_byTime\"\n",
    "board_log =model_path+\"\\\\\" +model_name+\"\\\\graph\""
   ]
  },
  {
   "cell_type": "code",
   "execution_count": 3,
   "metadata": {},
   "outputs": [],
   "source": [
    "# dbuser='global_owner'\n",
    "# dbpass='if(g=l)weatherpg'\n",
    "# try:\n",
    "#     conn = psycopg2.connect(dbname='weatherpg',user=dbuser,host='weatherpg.db.dv.interia.pl',password=dbpass)\n",
    "# except:\n",
    "#     print(\"I am unable to connect to the database\")"
   ]
  },
  {
   "cell_type": "code",
   "execution_count": 3,
   "metadata": {},
   "outputs": [],
   "source": [
    "\n",
    "#dataset_raw =pd.read_sql_query('select * from weather_owner.polution_table_data(119,204)',con=conn)\n",
    "# dataset_raw =pd.read_sql_query(f'select * from  weather_owner.polution_table_data_season(119, 204,\\'{model_season}\\')',con=conn)\n",
    "\n",
    "#dataset_raw =pd.read_sql_query('select * from weather_owner.polution_table_data_current(119,204)',con=conn)\n",
    "dataset_raw =pd.read_csv('..\\\\data\\\\zima\\csv\\\\4970_krakow.csv')\n",
    "dataset_raw.set_index(\"data\",inplace=True)\n"
   ]
  },
  {
   "cell_type": "code",
   "execution_count": 27,
   "metadata": {},
   "outputs": [
    {
     "data": {
      "text/plain": [
       "23.881761848999197"
      ]
     },
     "execution_count": 27,
     "metadata": {},
     "output_type": "execute_result"
    }
   ],
   "source": [
    "#dataset_raw.to_pickle('../picle/polution_raw.pickle')\n",
    "#dataset_raw=pd.read_pickle('../picle/polution_raw.pickle')\n",
    "#dataset_raw.read_pickle('../picle/polution_raw.pickle')\n",
    "\n",
    "# abs(dataset_raw['prev_index_avg']-dataset_raw['index_avg']).mean()\n",
    "# dataset_raw['index_avg'].std()"
   ]
  },
  {
   "cell_type": "code",
   "execution_count": 28,
   "metadata": {},
   "outputs": [],
   "source": []
  },
  {
   "cell_type": "code",
   "execution_count": 36,
   "metadata": {},
   "outputs": [],
   "source": [
    "col_list=['timeofday','is_weekend','windspeed6','dispel50','temp6','prev_index_avg','opady6','rhumid','wind_dir_ns','wind_dir_ew']\n",
    "col_list_1=['timeofday','is_weekend','windspeed6','temp6','prev_index_avg','opady6','rhumid','dewpt']\n",
    "col_list_2=['timeofday','is_weekend','dispel50','temp6','prev_index_avg','opady6','rhumid','dewpt']\n",
    "col_list_2=['timeofday','is_weekend','temp6','prev_index_avg','opady6','rhumid','wind_dir_ns','wind_dir_ew','dewpt']\n",
    "X =pd.DataFrame(dataset_raw, columns=col_list)\n",
    "Y =pd.DataFrame(dataset_raw, columns=['index_avg'])\n",
    "#X_train, X_test, y_train, y_test = train_test_split(X, Y, test_size = 0.2, random_state = 10)\n",
    "\n",
    "#w naszym przypadku musimy brac całe dni do testowego zbioru bo jak bierzemy pojedyncze godziny to model się teoretycznieie uczy w nieskończoność\n",
    "#a w praktyce to dopasowuje się do innych godzin tego dnia\n",
    "uniqe_data=pd.unique(dataset_raw.index)\n",
    "uniqe_data_train, uniqe_data_test= train_test_split(uniqe_data, test_size = 0.2, random_state = 12)\n",
    "X_train=X[X.index.isin(uniqe_data_train)]\n",
    "X_test =X[X.index.isin(uniqe_data_test)]\n",
    "y_train=Y[Y.index.isin(uniqe_data_train)]\n",
    "y_test =Y[Y.index.isin(uniqe_data_test)]\n"
   ]
  },
  {
   "cell_type": "code",
   "execution_count": 37,
   "metadata": {},
   "outputs": [],
   "source": [
    "cat_features_index = [0,1]\n",
    "\n",
    "#model = CatBoostRegressor(iterations=10000, learning_rate=0.01, depth=6,l2_leaf_reg=27)\n",
    "\n",
    "model = CatBoostRegressor(iterations=7000, learning_rate=0.01, depth=6,l2_leaf_reg=27)\n"
   ]
  },
  {
   "cell_type": "code",
   "execution_count": 38,
   "metadata": {},
   "outputs": [
    {
     "data": {
      "text/plain": [
       "<catboost.core.CatBoostRegressor at 0x1c959984b00>"
      ]
     },
     "execution_count": 38,
     "metadata": {},
     "output_type": "execute_result"
    }
   ],
   "source": [
    "#model.fit(X_train, y_train, cat_features_index,                 eval_set=[(X_test, y_test)],use_best_model=True,plot=True,silent=True                 )\n",
    "\n",
    "#model.fit(X_train, y_train, cat_features_index,    eval_set=[(X_test, y_test)],use_best_model=True,plot=True,silent=True)\n",
    "model.fit(X_train, y_train, cat_features_index,    eval_set=[(X_test, y_test)],use_best_model=True,silent=True)\n"
   ]
  },
  {
   "cell_type": "code",
   "execution_count": 9,
   "metadata": {},
   "outputs": [],
   "source": [
    "model.save_model(model_file, format=\"cbm\")\n",
    "#model.load_model('polution_catboost.cmb')\n"
   ]
  },
  {
   "cell_type": "code",
   "execution_count": 12,
   "metadata": {},
   "outputs": [
    {
     "data": {
      "text/plain": [
       "'c:\\\\workspace\\\\Python\\\\polutions\\\\models\\\\jesien\\\\catboost_polution_model.cmb'"
      ]
     },
     "execution_count": 12,
     "metadata": {},
     "output_type": "execute_result"
    }
   ],
   "source": [
    "model_file"
   ]
  },
  {
   "cell_type": "code",
   "execution_count": 39,
   "metadata": {},
   "outputs": [],
   "source": [
    "score=model.score(X_test, y_test)\n"
   ]
  },
  {
   "cell_type": "code",
   "execution_count": 40,
   "metadata": {},
   "outputs": [
    {
     "data": {
      "text/html": [
       "<div>\n",
       "<style scoped>\n",
       "    .dataframe tbody tr th:only-of-type {\n",
       "        vertical-align: middle;\n",
       "    }\n",
       "\n",
       "    .dataframe tbody tr th {\n",
       "        vertical-align: top;\n",
       "    }\n",
       "\n",
       "    .dataframe thead th {\n",
       "        text-align: right;\n",
       "    }\n",
       "</style>\n",
       "<table border=\"1\" class=\"dataframe\">\n",
       "  <thead>\n",
       "    <tr style=\"text-align: right;\">\n",
       "      <th></th>\n",
       "      <th>importance</th>\n",
       "    </tr>\n",
       "    <tr>\n",
       "      <th>futures</th>\n",
       "      <th></th>\n",
       "    </tr>\n",
       "  </thead>\n",
       "  <tbody>\n",
       "    <tr>\n",
       "      <th>windspeed6</th>\n",
       "      <td>17.598115</td>\n",
       "    </tr>\n",
       "    <tr>\n",
       "      <th>temp6</th>\n",
       "      <td>15.645728</td>\n",
       "    </tr>\n",
       "    <tr>\n",
       "      <th>prev_index_avg</th>\n",
       "      <td>15.251470</td>\n",
       "    </tr>\n",
       "    <tr>\n",
       "      <th>dispel50</th>\n",
       "      <td>14.023964</td>\n",
       "    </tr>\n",
       "    <tr>\n",
       "      <th>timeofday</th>\n",
       "      <td>10.111780</td>\n",
       "    </tr>\n",
       "    <tr>\n",
       "      <th>rhumid</th>\n",
       "      <td>7.173036</td>\n",
       "    </tr>\n",
       "    <tr>\n",
       "      <th>wind_dir_ns</th>\n",
       "      <td>6.778714</td>\n",
       "    </tr>\n",
       "    <tr>\n",
       "      <th>opady6</th>\n",
       "      <td>6.072033</td>\n",
       "    </tr>\n",
       "    <tr>\n",
       "      <th>wind_dir_ew</th>\n",
       "      <td>5.517141</td>\n",
       "    </tr>\n",
       "    <tr>\n",
       "      <th>is_weekend</th>\n",
       "      <td>1.828019</td>\n",
       "    </tr>\n",
       "  </tbody>\n",
       "</table>\n",
       "</div>"
      ],
      "text/plain": [
       "                importance\n",
       "futures                   \n",
       "windspeed6       17.598115\n",
       "temp6            15.645728\n",
       "prev_index_avg   15.251470\n",
       "dispel50         14.023964\n",
       "timeofday        10.111780\n",
       "rhumid            7.173036\n",
       "wind_dir_ns       6.778714\n",
       "opady6            6.072033\n",
       "wind_dir_ew       5.517141\n",
       "is_weekend        1.828019"
      ]
     },
     "execution_count": 40,
     "metadata": {},
     "output_type": "execute_result"
    }
   ],
   "source": [
    "pool = Pool(X_train, y_train)\n",
    "\n",
    "fi = model.get_feature_importance(pool,fstr_type='FeatureImportance')\n",
    "#finteraction = model.get_feature_importance(pool,fstr_type='Interaction')\n",
    "feature_importance=pd.DataFrame(fi,columns=['importance'])\n",
    "feature_importance[\"futures\"]=col_list\n",
    "\n",
    "\n",
    "feature_importance.set_index(\"futures\",inplace=True)\n",
    "feature_importance.sort_values(by=[\"importance\"],ascending =False,inplace=True )\n",
    "feature_importance\n",
    "\n"
   ]
  },
  {
   "cell_type": "code",
   "execution_count": null,
   "metadata": {},
   "outputs": [],
   "source": []
  }
 ],
 "metadata": {
  "kernelspec": {
   "display_name": "Python 3",
   "language": "python",
   "name": "python3"
  },
  "language_info": {
   "codemirror_mode": {
    "name": "ipython",
    "version": 3
   },
   "file_extension": ".py",
   "mimetype": "text/x-python",
   "name": "python",
   "nbconvert_exporter": "python",
   "pygments_lexer": "ipython3",
   "version": "3.6.6"
  }
 },
 "nbformat": 4,
 "nbformat_minor": 2
}
