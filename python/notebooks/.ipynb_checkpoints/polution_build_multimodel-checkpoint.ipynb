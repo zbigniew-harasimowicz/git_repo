{
 "cells": [
  {
   "cell_type": "code",
   "execution_count": 1,
   "metadata": {},
   "outputs": [],
   "source": [
    "\n",
    "import numpy as np\n",
    "import pandas as pd\n",
    "# import psycopg2\n",
    "\n",
    "from sklearn.preprocessing import StandardScaler\n",
    "from sklearn.externals import joblib \n",
    "from sklearn.model_selection import train_test_split\n",
    "# Importing the xgboost\n",
    "import catboost\n",
    "from catboost import CatBoostRegressor,Pool\n",
    "import matplotlib.pyplot as plt\n",
    "#import matplotlib.pyplot as plt"
   ]
  },
  {
   "cell_type": "code",
   "execution_count": 2,
   "metadata": {},
   "outputs": [],
   "source": [
    "\n",
    "\n",
    "# ustawienie plików z parametemai modelu\n",
    "model_path='c:\\workspace\\Python\\polutions\\models'\n",
    "model_season='zima'\n",
    "model_name='catboost_polution_model'\n",
    "model_file = model_path+\"\\\\\"+model_season+'\\\\'+model_name+\".cmb\"\n",
    "scaler_file=model_path+\"\\\\\" +model_name+\"\\\\scaler\"\n",
    "mean_indexbytime_file = model_path+\"\\\\\" +model_name+\"\\\\mean_byTime\"\n",
    "board_log =model_path+\"\\\\\" +model_name+\"\\\\graph\""
   ]
  },
  {
   "cell_type": "code",
   "execution_count": 3,
   "metadata": {},
   "outputs": [],
   "source": [
    "# dbuser='global_owner'\n",
    "# dbpass='if(g=l)weatherpg'\n",
    "# try:\n",
    "#     conn = psycopg2.connect(dbname='weatherpg',user=dbuser,host='weatherpg.db.dv.interia.pl',password=dbpass)\n",
    "# except:\n",
    "#     print(\"I am unable to connect to the database\")"
   ]
  },
  {
   "cell_type": "code",
   "execution_count": 4,
   "metadata": {},
   "outputs": [],
   "source": [
    "\n",
    "#dataset_raw =pd.read_sql_query('select * from weather_owner.polution_table_data(119,204)',con=conn)\n",
    "# dataset_raw =pd.read_sql_query(f'select * from  weather_owner.polution_table_data_season(119, 204,\\'{model_season}\\')',con=conn)\n",
    "\n",
    "#dataset_raw =pd.read_sql_query('select * from weather_owner.polution_table_data_current(119,204)',con=conn)\n",
    "dataset_raw =pd.read_csv('..\\\\data\\\\zima\\csv\\\\4970_krakow.csv')\n",
    "dataset_raw.set_index(\"data\",inplace=True)\n"
   ]
  },
  {
   "cell_type": "code",
   "execution_count": 5,
   "metadata": {},
   "outputs": [],
   "source": [
    "#dataset_raw.to_pickle('../picle/polution_raw.pickle')\n",
    "#dataset_raw=pd.read_pickle('../picle/polution_raw.pickle')\n",
    "#dataset_raw.read_pickle('../picle/polution_raw.pickle')\n",
    "\n",
    "# abs(dataset_raw['prev_index_avg']-dataset_raw['index_avg']).mean()\n",
    "# dataset_raw['index_avg'].std()"
   ]
  },
  {
   "cell_type": "code",
   "execution_count": 6,
   "metadata": {},
   "outputs": [],
   "source": [
    "uniqe_data=pd.unique(dataset_raw.index)\n",
    "uniqe_data_train, uniqe_data_test= train_test_split(uniqe_data, test_size = 0.2, random_state = 12)"
   ]
  },
  {
   "cell_type": "code",
   "execution_count": 7,
   "metadata": {},
   "outputs": [],
   "source": [
    "col_list=['timeofday','is_weekend','windspeed6','dispel50','temp6','prev_index_avg','opady6','rhumid','wind_dir_ns','wind_dir_ew']\n",
    "col_list_1=['timeofday','is_weekend','windspeed6','temp6','prev_index_avg','opady6','rhumid','dewpt']\n",
    "col_list_2=['timeofday','is_weekend','dispel50','temp6','prev_index_avg','opady6','rhumid','dewpt']\n",
    "col_list_3=['timeofday','is_weekend','temp6','prev_index_avg','opady6','rhumid','wind_dir_ns','wind_dir_ew','dewpt']\n"
   ]
  },
  {
   "cell_type": "code",
   "execution_count": 8,
   "metadata": {},
   "outputs": [],
   "source": [
    "X =pd.DataFrame(dataset_raw, columns=col_list)\n",
    "Y =pd.DataFrame(dataset_raw, columns=['index_avg'])\n",
    "#X_train, X_test, y_train, y_test = train_test_split(X, Y, test_size = 0.2, random_state = 10)\n",
    "\n",
    "#w naszym przypadku musimy brac całe dni do testowego zbioru bo jak bierzemy pojedyncze godziny to model się teoretycznieie uczy w nieskończoność\n",
    "#a w praktyce to dopasowuje się do innych godzin tego dnia\n",
    "# uniqe_data=pd.unique(dataset_raw.index)\n",
    "# uniqe_data_train, uniqe_data_test= train_test_split(uniqe_data, test_size = 0.2, random_state = 12)\n",
    "X_train=X[X.index.isin(uniqe_data_train)]\n",
    "X_test =X[X.index.isin(uniqe_data_test)]\n",
    "y_train=Y[Y.index.isin(uniqe_data_train)]\n",
    "y_test =Y[Y.index.isin(uniqe_data_test)]"
   ]
  },
  {
   "cell_type": "code",
   "execution_count": 9,
   "metadata": {},
   "outputs": [],
   "source": [
    "X1 =pd.DataFrame(dataset_raw, columns=col_list_1)\n",
    "Y1 =pd.DataFrame(dataset_raw, columns=['index_avg'])\n",
    "#X_train, X_test, y_train, y_test = train_test_split(X, Y, test_size = 0.2, random_state = 10)\n",
    "\n",
    "#w naszym przypadku musimy brac całe dni do testowego zbioru bo jak bierzemy pojedyncze godziny to model się teoretycznieie uczy w nieskończoność\n",
    "#a w praktyce to dopasowuje się do innych godzin tego dnia\n",
    "X_train1=X1[X1.index.isin(uniqe_data_train)]\n",
    "X_test1 =X1[X1.index.isin(uniqe_data_test)]\n",
    "y_train1=Y1[Y1.index.isin(uniqe_data_train)]\n",
    "y_test1=Y1[Y1.index.isin(uniqe_data_test)]\n"
   ]
  },
  {
   "cell_type": "code",
   "execution_count": 10,
   "metadata": {},
   "outputs": [],
   "source": [
    "X2 =pd.DataFrame(dataset_raw, columns=col_list_2)\n",
    "Y2 =pd.DataFrame(dataset_raw, columns=['index_avg'])\n",
    "#X_train, X_test, y_train, y_test = train_test_split(X, Y, test_size = 0.2, random_state = 10)\n",
    "\n",
    "#w naszym przypadku musimy brac całe dni do testowego zbioru bo jak bierzemy pojedyncze godziny to model się teoretycznieie uczy w nieskończoność\n",
    "#a w praktyce to dopasowuje się do innych godzin tego dnia\n",
    "X_train2=X2[X2.index.isin(uniqe_data_train)]\n",
    "X_test2 =X2[X2.index.isin(uniqe_data_test)]\n",
    "y_train2=Y2[Y2.index.isin(uniqe_data_train)]\n",
    "y_test2=Y2[Y2.index.isin(uniqe_data_test)]\n"
   ]
  },
  {
   "cell_type": "code",
   "execution_count": 11,
   "metadata": {},
   "outputs": [],
   "source": [
    "X3 =pd.DataFrame(dataset_raw, columns=col_list_3)\n",
    "Y3 =pd.DataFrame(dataset_raw, columns=['index_avg'])\n",
    "#X_train, X_test, y_train, y_test = train_test_split(X, Y, test_size = 0.2, random_state = 10)\n",
    "\n",
    "#w naszym przypadku musimy brac całe dni do testowego zbioru bo jak bierzemy pojedyncze godziny to model się teoretycznieie uczy w nieskończoność\n",
    "#a w praktyce to dopasowuje się do innych godzin tego dnia\n",
    "X_train3=X3[X3.index.isin(uniqe_data_train)]\n",
    "X_test3 =X3[X3.index.isin(uniqe_data_test)]\n",
    "y_train3=Y3[Y3.index.isin(uniqe_data_train)]\n",
    "y_test3=Y3[Y3.index.isin(uniqe_data_test)]\n"
   ]
  },
  {
   "cell_type": "code",
   "execution_count": 12,
   "metadata": {},
   "outputs": [],
   "source": [
    "cat_features_index = [0,1]\n",
    "\n",
    "#model = CatBoostRegressor(iterations=10000, learning_rate=0.01, depth=6,l2_leaf_reg=27)\n",
    "\n",
    "model = CatBoostRegressor(iterations=7000, learning_rate=0.01, depth=6,l2_leaf_reg=27)\n",
    "model1 = CatBoostRegressor(iterations=7000, learning_rate=0.01, depth=6,l2_leaf_reg=27)\n",
    "model2 = CatBoostRegressor(iterations=7000, learning_rate=0.01, depth=6,l2_leaf_reg=27)\n",
    "model3 = CatBoostRegressor(iterations=7000, learning_rate=0.01, depth=6,l2_leaf_reg=27)\n"
   ]
  },
  {
   "cell_type": "code",
   "execution_count": 13,
   "metadata": {},
   "outputs": [
    {
     "data": {
      "text/plain": [
       "<catboost.core.CatBoostRegressor at 0x25ecf103d68>"
      ]
     },
     "execution_count": 13,
     "metadata": {},
     "output_type": "execute_result"
    }
   ],
   "source": [
    "#model.fit(X_train, y_train, cat_features_index,                 eval_set=[(X_test, y_test)],use_best_model=True,plot=True,silent=True                 )\n",
    "\n",
    "#model.fit(X_train, y_train, cat_features_index,    eval_set=[(X_test, y_test)],use_best_model=True,plot=True,silent=True)\n",
    "model.fit(X_train, y_train, cat_features_index,    eval_set=[(X_test, y_test)],use_best_model=True,silent=True)\n",
    "model1.fit(X_train1, y_train1, cat_features_index,    eval_set=[(X_test1, y_test1)],use_best_model=True,silent=True)\n",
    "model2.fit(X_train2, y_train2, cat_features_index,    eval_set=[(X_test2, y_test2)],use_best_model=True,silent=True)\n",
    "model3.fit(X_train3, y_train3, cat_features_index,    eval_set=[(X_test3, y_test3)],use_best_model=True,silent=True)\n"
   ]
  },
  {
   "cell_type": "code",
   "execution_count": 14,
   "metadata": {},
   "outputs": [],
   "source": [
    "model.save_model(model_path+\"\\\\\"+model_season+'\\\\'+model_name+\".cmb\", format=\"cbm\")\n",
    "model1.save_model(model_path+\"\\\\\"+model_season+'\\\\'+model_name+\"_1.cmb\", format=\"cbm\")\n",
    "model2.save_model(model_path+\"\\\\\"+model_season+'\\\\'+model_name+\"_2.cmb\", format=\"cbm\")\n",
    "model3.save_model(model_path+\"\\\\\"+model_season+'\\\\'+model_name+\"_3.cmb\", format=\"cbm\")\n",
    "#model.load_model('polution_catboost.cmb')\n"
   ]
  },
  {
   "cell_type": "code",
   "execution_count": 15,
   "metadata": {},
   "outputs": [],
   "source": [
    "# model_file"
   ]
  },
  {
   "cell_type": "code",
   "execution_count": 19,
   "metadata": {},
   "outputs": [
    {
     "data": {
      "text/plain": [
       "14.359907554070778"
      ]
     },
     "execution_count": 19,
     "metadata": {},
     "output_type": "execute_result"
    }
   ],
   "source": [
    "model1.score(X_test1, y_test1)\n"
   ]
  },
  {
   "cell_type": "code",
   "execution_count": 21,
   "metadata": {},
   "outputs": [
    {
     "data": {
      "text/html": [
       "<div>\n",
       "<style scoped>\n",
       "    .dataframe tbody tr th:only-of-type {\n",
       "        vertical-align: middle;\n",
       "    }\n",
       "\n",
       "    .dataframe tbody tr th {\n",
       "        vertical-align: top;\n",
       "    }\n",
       "\n",
       "    .dataframe thead th {\n",
       "        text-align: right;\n",
       "    }\n",
       "</style>\n",
       "<table border=\"1\" class=\"dataframe\">\n",
       "  <thead>\n",
       "    <tr style=\"text-align: right;\">\n",
       "      <th></th>\n",
       "      <th>importance</th>\n",
       "    </tr>\n",
       "    <tr>\n",
       "      <th>futures</th>\n",
       "      <th></th>\n",
       "    </tr>\n",
       "  </thead>\n",
       "  <tbody>\n",
       "    <tr>\n",
       "      <th>prev_index_avg</th>\n",
       "      <td>20.866703</td>\n",
       "    </tr>\n",
       "    <tr>\n",
       "      <th>temp6</th>\n",
       "      <td>13.371391</td>\n",
       "    </tr>\n",
       "    <tr>\n",
       "      <th>rhumid</th>\n",
       "      <td>13.089764</td>\n",
       "    </tr>\n",
       "    <tr>\n",
       "      <th>wind_dir_ew</th>\n",
       "      <td>13.040492</td>\n",
       "    </tr>\n",
       "    <tr>\n",
       "      <th>wind_dir_ns</th>\n",
       "      <td>11.447908</td>\n",
       "    </tr>\n",
       "    <tr>\n",
       "      <th>opady6</th>\n",
       "      <td>9.106890</td>\n",
       "    </tr>\n",
       "    <tr>\n",
       "      <th>timeofday</th>\n",
       "      <td>8.897837</td>\n",
       "    </tr>\n",
       "    <tr>\n",
       "      <th>dewpt</th>\n",
       "      <td>7.756518</td>\n",
       "    </tr>\n",
       "    <tr>\n",
       "      <th>is_weekend</th>\n",
       "      <td>2.422495</td>\n",
       "    </tr>\n",
       "  </tbody>\n",
       "</table>\n",
       "</div>"
      ],
      "text/plain": [
       "                importance\n",
       "futures                   \n",
       "prev_index_avg   20.866703\n",
       "temp6            13.371391\n",
       "rhumid           13.089764\n",
       "wind_dir_ew      13.040492\n",
       "wind_dir_ns      11.447908\n",
       "opady6            9.106890\n",
       "timeofday         8.897837\n",
       "dewpt             7.756518\n",
       "is_weekend        2.422495"
      ]
     },
     "execution_count": 21,
     "metadata": {},
     "output_type": "execute_result"
    }
   ],
   "source": [
    "pool = Pool(X_train3, y_train3)\n",
    "\n",
    "fi = model3.get_feature_importance(pool,fstr_type='FeatureImportance')\n",
    "#finteraction = model.get_feature_importance(pool,fstr_type='Interaction')\n",
    "feature_importance=pd.DataFrame(fi,columns=['importance'])\n",
    "feature_importance[\"futures\"]=col_list_3\n",
    "\n",
    "\n",
    "feature_importance.set_index(\"futures\",inplace=True)\n",
    "feature_importance.sort_values(by=[\"importance\"],ascending =False,inplace=True )\n",
    "feature_importance\n",
    "\n"
   ]
  },
  {
   "cell_type": "code",
   "execution_count": 26,
   "metadata": {},
   "outputs": [],
   "source": [
    "pred=model.predict(X_test)\n",
    "pred1=model1.predict(X_test1)\n",
    "pred2=model2.predict(X_test2)\n",
    "pred3=model3.predict(X_test3)"
   ]
  },
  {
   "cell_type": "code",
   "execution_count": 49,
   "metadata": {},
   "outputs": [],
   "source": [
    "a=abs(y_test1['index_avg'].values-pred1)"
   ]
  },
  {
   "cell_type": "code",
   "execution_count": 50,
   "metadata": {},
   "outputs": [
    {
     "data": {
      "text/plain": [
       "11.508268566738458"
      ]
     },
     "execution_count": 50,
     "metadata": {},
     "output_type": "execute_result"
    }
   ],
   "source": [
    "a.mean()"
   ]
  },
  {
   "cell_type": "code",
   "execution_count": 51,
   "metadata": {},
   "outputs": [
    {
     "data": {
      "text/plain": [
       "14.359907554070778"
      ]
     },
     "execution_count": 51,
     "metadata": {},
     "output_type": "execute_result"
    }
   ],
   "source": [
    "model1.score(X_test1, y_test1)\n"
   ]
  },
  {
   "cell_type": "code",
   "execution_count": 52,
   "metadata": {},
   "outputs": [],
   "source": [
    "a=abs(y_test2['index_avg'].values-pred2)"
   ]
  },
  {
   "cell_type": "code",
   "execution_count": 58,
   "metadata": {},
   "outputs": [
    {
     "data": {
      "text/plain": [
       "10.576167254892097"
      ]
     },
     "execution_count": 58,
     "metadata": {},
     "output_type": "execute_result"
    }
   ],
   "source": [
    "a.mean()"
   ]
  },
  {
   "cell_type": "code",
   "execution_count": 101,
   "metadata": {},
   "outputs": [
    {
     "data": {
      "text/plain": [
       "10.576167254892097"
      ]
     },
     "execution_count": 101,
     "metadata": {},
     "output_type": "execute_result"
    }
   ],
   "source": [
    "abs(y_test['index_avg'].values-pred).mean()"
   ]
  },
  {
   "cell_type": "code",
   "execution_count": 56,
   "metadata": {},
   "outputs": [],
   "source": []
  },
  {
   "cell_type": "code",
   "execution_count": 73,
   "metadata": {},
   "outputs": [],
   "source": []
  },
  {
   "cell_type": "code",
   "execution_count": 99,
   "metadata": {},
   "outputs": [
    {
     "data": {
      "text/plain": [
       "13.382877612772763"
      ]
     },
     "execution_count": 99,
     "metadata": {},
     "output_type": "execute_result"
    }
   ],
   "source": [
    "np.sqrt(pow(y_test['index_avg'].values-pred,2).mean())"
   ]
  },
  {
   "cell_type": "code",
   "execution_count": 96,
   "metadata": {},
   "outputs": [
    {
     "data": {
      "text/plain": [
       "13.382877612772763"
      ]
     },
     "execution_count": 96,
     "metadata": {},
     "output_type": "execute_result"
    }
   ],
   "source": [
    "model.score(X_test, y_test)\n"
   ]
  },
  {
   "cell_type": "code",
   "execution_count": 117,
   "metadata": {},
   "outputs": [],
   "source": [
    "pred_aa=(pred1+pred2+pred)/3"
   ]
  },
  {
   "cell_type": "code",
   "execution_count": 120,
   "metadata": {},
   "outputs": [
    {
     "data": {
      "text/plain": [
       "13.665297873130875"
      ]
     },
     "execution_count": 120,
     "metadata": {},
     "output_type": "execute_result"
    }
   ],
   "source": [
    "np.sqrt(pow(y_test['index_avg'].values-pred_aa,2).mean())"
   ]
  },
  {
   "cell_type": "code",
   "execution_count": 118,
   "metadata": {},
   "outputs": [
    {
     "data": {
      "text/plain": [
       "11.000908865969318"
      ]
     },
     "execution_count": 118,
     "metadata": {},
     "output_type": "execute_result"
    }
   ],
   "source": [
    "abs(y_test['index_avg'].values-pred_aa).mean()"
   ]
  },
  {
   "cell_type": "code",
   "execution_count": 113,
   "metadata": {},
   "outputs": [
    {
     "data": {
      "text/plain": [
       "11.426557642128248"
      ]
     },
     "execution_count": 113,
     "metadata": {},
     "output_type": "execute_result"
    }
   ],
   "source": [
    "abs(y_test['index_avg'].values-pred2).mean()"
   ]
  },
  {
   "cell_type": "code",
   "execution_count": 114,
   "metadata": {},
   "outputs": [
    {
     "data": {
      "text/plain": [
       "11.508268566738458"
      ]
     },
     "execution_count": 114,
     "metadata": {},
     "output_type": "execute_result"
    }
   ],
   "source": [
    "abs(y_test['index_avg'].values-pred1).mean()"
   ]
  },
  {
   "cell_type": "code",
   "execution_count": 115,
   "metadata": {},
   "outputs": [
    {
     "data": {
      "text/plain": [
       "13.409891347398633"
      ]
     },
     "execution_count": 115,
     "metadata": {},
     "output_type": "execute_result"
    }
   ],
   "source": [
    "abs(y_test['index_avg'].values-pred3).mean()"
   ]
  },
  {
   "cell_type": "code",
   "execution_count": 116,
   "metadata": {},
   "outputs": [
    {
     "data": {
      "text/plain": [
       "10.576167254892097"
      ]
     },
     "execution_count": 116,
     "metadata": {},
     "output_type": "execute_result"
    }
   ],
   "source": [
    "abs(y_test['index_avg'].values-pred).mean()"
   ]
  },
  {
   "cell_type": "markdown",
   "metadata": {},
   "source": [
    "Wniosek:\n",
    "Suma słabych regresorów jestgorsza niż silny<br>\n",
    "choć suma jest lepsza ni każdy z nich\n"
   ]
  },
  {
   "cell_type": "code",
   "execution_count": null,
   "metadata": {},
   "outputs": [],
   "source": []
  }
 ],
 "metadata": {
  "kernelspec": {
   "display_name": "Python 3",
   "language": "python",
   "name": "python3"
  },
  "language_info": {
   "codemirror_mode": {
    "name": "ipython",
    "version": 3
   },
   "file_extension": ".py",
   "mimetype": "text/x-python",
   "name": "python",
   "nbconvert_exporter": "python",
   "pygments_lexer": "ipython3",
   "version": "3.6.6"
  }
 },
 "nbformat": 4,
 "nbformat_minor": 2
}
