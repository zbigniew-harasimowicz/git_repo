{
 "cells": [
  {
   "cell_type": "code",
   "execution_count": 1,
   "metadata": {},
   "outputs": [],
   "source": [
    "import numpy as np\n",
    "#import matplotlib.pyplot as plt\n",
    "import pandas as pd\n",
    "import psycopg2\n",
    "import datetime\n",
    "import argparse\n",
    "import catboost\n",
    "\n",
    "from sklearn.preprocessing import StandardScaler\n",
    "from sklearn.externals import joblib \n",
    "from catboost import CatBoostRegressor,Pool\n",
    "import os\n",
    "import logging"
   ]
  },
  {
   "cell_type": "code",
   "execution_count": 2,
   "metadata": {},
   "outputs": [],
   "source": [
    "parser=argparse.ArgumentParser()\n",
    "parser.add_argument(\"-sta_id\",help=\"id stacji pogodowej\")\n",
    "parser.add_argument(\"-asn_id\",help=\"id czujnika airly\")\n",
    "parser.add_argument(\"-time\",help=\"godzina\")\n",
    "parser.add_argument(\"-model_name\",help=\"nazwa modelu\")\n",
    "parser.add_argument(\"-all_models\",help=\"czy wszystkie modele modelu\")\n",
    "parser.add_argument(\"-cit_id\",help=\"id miasta dla którego generujemy\")\n",
    "parser.add_argument(\"-log_file\",help=\"ścieżka do pliku z logami\")\n",
    "# args = parser.parse_args()\n",
    "args = parser.parse_args(args=[])"
   ]
  },
  {
   "cell_type": "code",
   "execution_count": 3,
   "metadata": {},
   "outputs": [],
   "source": [
    "if args.all_models is None :\n",
    "    args.all_models=1"
   ]
  },
  {
   "cell_type": "code",
   "execution_count": 4,
   "metadata": {},
   "outputs": [],
   "source": [
    "if args.sta_id is None :\n",
    "    args.sta_id=119"
   ]
  },
  {
   "cell_type": "code",
   "execution_count": 5,
   "metadata": {},
   "outputs": [],
   "source": [
    "if args.asn_id is None :\n",
    "    args.asn_id=204"
   ]
  },
  {
   "cell_type": "code",
   "execution_count": 6,
   "metadata": {},
   "outputs": [],
   "source": [
    "if args.cit_id is None :\n",
    "    args.cit_id=4970"
   ]
  },
  {
   "cell_type": "code",
   "execution_count": 7,
   "metadata": {},
   "outputs": [],
   "source": [
    "if args.time is None :\n",
    "    args.time=datetime.datetime.now().strftime(\"%H\")"
   ]
  },
  {
   "cell_type": "code",
   "execution_count": 8,
   "metadata": {},
   "outputs": [],
   "source": [
    "if args.log_file is None :\n",
    "    args.log_file='D:\\\\polution_prediction\\\\logs\\\\polution_predict.log'"
   ]
  },
  {
   "cell_type": "code",
   "execution_count": null,
   "metadata": {},
   "outputs": [],
   "source": [
    "if args.model_name is None :\n",
    "    v_month=datetime.datetime.now().month\n",
    "    if (v_month>=11 or v_month<=3):\n",
    "        args.model_name='zima'\n",
    "    if (v_month>=4 and v_month<=5):\n",
    "        args.model_name='wiosna'    \n",
    "    if (v_month>=6 and v_month<=9):\n",
    "        args.model_name='lato'            \n",
    "    if (v_month==10):\n",
    "        args.model_name='jesien'                    "
   ]
  },
  {
   "cell_type": "code",
   "execution_count": 9,
   "metadata": {},
   "outputs": [],
   "source": [
    "args.model_name='zima'"
   ]
  },
  {
   "cell_type": "code",
   "execution_count": 10,
   "metadata": {},
   "outputs": [],
   "source": [
    "logger = logging.getLogger('polution_predict')\n",
    "hdlr = logging.FileHandler(args.log_file)\n",
    "formatter = logging.Formatter('%(asctime)s %(levelname)s %(message)s')\n",
    "hdlr.setFormatter(formatter)\n",
    "logger.addHandler(hdlr) \n",
    "logger.setLevel(logging.INFO)"
   ]
  },
  {
   "cell_type": "code",
   "execution_count": 11,
   "metadata": {},
   "outputs": [],
   "source": [
    "    model_path='D:\\polution_prediction\\models'\n",
    "    model_path=model_path+'\\\\'+args.model_name\n",
    "    # model_file = model_path+args.model_name+\"/catboost_polution_model.cmb\"\n",
    "    model_file_name = \"\\\\catboost_polution_model.cmb\"\n"
   ]
  },
  {
   "cell_type": "code",
   "execution_count": 12,
   "metadata": {},
   "outputs": [],
   "source": [
    "dbuser='db_cron'\n",
    "dbpass='VBruj16$aW'\n",
    "try:\n",
    "    conn = psycopg2.connect(dbname='weatherpg',user=dbuser,host='weatherpg.db.dv.interia.pl',password=dbpass)\n",
    "except:\n",
    "    print(\"I am unable to connect to the database\")"
   ]
  },
  {
   "cell_type": "code",
   "execution_count": null,
   "metadata": {},
   "outputs": [],
   "source": [
    "# if args.all_models =1 :\n",
    "#     sel_city2_model='select cit_sta_id,cit_id,cit_asn_id,cit_name_pl from weather_owner.wh_polution_models'\n",
    "#     dataset_cities=pd.read_sql_query(sel_city2_model,con=conn)"
   ]
  },
  {
   "cell_type": "code",
   "execution_count": null,
   "metadata": {},
   "outputs": [],
   "source": [
    "def  predict_model(p_sta_id,p_cit_id,p_asn_id):\n",
    "    nowDate=(datetime.datetime.today()+datetime.timedelta(days=1)).strftime (\"%Y-%m-%d\")\n",
    "    # model_path='/home/dev/polution_predict/model/'\n",
    "    model_file=model_path+f'\\\\{p_cit_id}'+model_file_name      \n",
    "    cat_features_index = [0,1]    \n",
    "    model = CatBoostRegressor(iterations=50000, learning_rate=0.01, depth=10,l2_leaf_reg=27)\n",
    "    try:\n",
    "        if os.path.isfile(model_file):\n",
    "            model.load_model(model_file)\n",
    "        else:            \n",
    "            logger.warning(f'model {model_file} not exist')\n",
    "            return f'model {model_file} not exist'\n",
    "    except os.error:\n",
    "        logger.error(f'os error {model_file}')\n",
    "        return f'os error {model_file}'    \n",
    "    sql_query= f'select * from weather_owner.polution_table_data_predict({args.sta_id},{args.asn_id},{args.time})'\n",
    "    dataset_raw =pd.read_sql_query(sql_query,con=conn)\n",
    "    dataset_raw.set_index(\"data\")\n",
    "    X =pd.DataFrame(dataset_raw, columns=['timeofday','is_weekend','windspeed6','dispel50','temp6','prev_index_avg','opady6','rhumid','wind_dir_ns','wind_dir_ew'])\n",
    "    y_pred = model.predict(X.values)\n",
    "    cur = conn.cursor()\n",
    "    cur.callproc('weather_owner.wh_polution_prediction_set', (nowDate,args.time,p_sta_id,y_pred[0].astype(float),p_cit_id))\n",
    "    conn.commit()\n",
    "    cur.close()\n",
    "    return 'ok'"
   ]
  },
  {
   "cell_type": "code",
   "execution_count": null,
   "metadata": {},
   "outputs": [],
   "source": [
    "if args.all_models ==1 :\n",
    "    sel_city2_model='select cit_sta_id,cit_id,cit_asn_id,cit_name_pl from weather_owner.wh_polution_models'\n",
    "    dataset_cities=pd.read_sql_query(sel_city2_model,con=conn)\n",
    "\n",
    "    for row in dataset_cities.iterrows():\n",
    "        cit_sta_id=f'{row[1][0]:.0f}'\n",
    "        cit_id    =f'{row[1][1]:.0f}'\n",
    "        cit_asn_id=f'{row[1][2]:.0f}'        \n",
    "        result=predict_model(cit_sta_id,cit_id,cit_asn_id)\n",
    "        if result=='ok':\n",
    "            logger.info(f'import to city {cit_id} complete')                     \n",
    "else:\n",
    "    predict_model(args.sta_id,args.cit_id,args.asn_id)"
   ]
  },
  {
   "cell_type": "code",
   "execution_count": null,
   "metadata": {},
   "outputs": [],
   "source": [
    "hdlr.close"
   ]
  },
  {
   "cell_type": "code",
   "execution_count": 13,
   "metadata": {},
   "outputs": [
    {
     "data": {
      "text/plain": [
       "<function connection.close>"
      ]
     },
     "execution_count": 13,
     "metadata": {},
     "output_type": "execute_result"
    }
   ],
   "source": [
    "conn.close"
   ]
  }
 ],
 "metadata": {
  "kernelspec": {
   "display_name": "Python 3",
   "language": "python",
   "name": "python3"
  },
  "language_info": {
   "codemirror_mode": {
    "name": "ipython",
    "version": 3
   },
   "file_extension": ".py",
   "mimetype": "text/x-python",
   "name": "python",
   "nbconvert_exporter": "python",
   "pygments_lexer": "ipython3",
   "version": "3.6.6"
  }
 },
 "nbformat": 4,
 "nbformat_minor": 2
}
